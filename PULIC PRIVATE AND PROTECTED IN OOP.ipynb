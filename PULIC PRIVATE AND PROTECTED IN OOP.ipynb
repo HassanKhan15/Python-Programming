{
 "cells": [
  {
   "cell_type": "markdown",
   "id": "f9abfc59",
   "metadata": {},
   "source": [
    "# PUBLIC PRIVATE AND PROTECTED IN OOP"
   ]
  },
  {
   "cell_type": "raw",
   "id": "026750e2",
   "metadata": {},
   "source": [
    "PUBLIC PRIVATE AND PROTECTED FUNCTIONALITES ARE HIGHLY RESTRICTED IN MOST OF THE TYPED LANGUAGES (STRONGLY TYPED)\n",
    "BUT IN PYTHON YOU WILL NOT BE RESTRICTED TO ACCESS PUBLIC PRVATE AND PROTECTED VARIABLES THEY CAN BE OVERRIDDEN"
   ]
  },
  {
   "cell_type": "code",
   "execution_count": 1,
   "id": "eae8bd64",
   "metadata": {},
   "outputs": [],
   "source": [
    "# ALL CLASS VARIABLES ARE PUBLIC BY DEFAULT\n",
    "# ALL INSTANCE LEVEL VARIABLES ARE PUBLIC BY DEFAULT\n",
    "\n",
    "class Car():\n",
    "    # PUBLIC CLASS VARIABLES CAN BE ACCESSED FROM ANYWHERE\n",
    "    wheels = 4\n",
    "    \n",
    "    def __init__(self, windows, doors, enginetype):\n",
    "    # PUBLIC INSTANCE VARIABLE CAN BE ACCESSED FROM ANYWHERE\n",
    "        self.windows = windows\n",
    "        self.doors = doors\n",
    "        self.enginetype = enginetype\n",
    "        \n",
    "car = Car(4,4,'PETROL')     \n",
    "\n",
    "# you can check car it has all the variables available"
   ]
  },
  {
   "cell_type": "code",
   "execution_count": 3,
   "id": "5463d8ff",
   "metadata": {},
   "outputs": [],
   "source": [
    "class Suzuki(Car):\n",
    "    \n",
    "    def __init__(self, windows, doors, enginetype, hp):\n",
    "        super().__init__(windows, doors, enginetype)\n",
    "        self.hp = hp\n",
    "\n",
    "suz = Suzuki(2, 2, 'HIGH-OCTANE', '1000-H')\n",
    "\n",
    "# now in this case you can check public variables are all accessible to child class also"
   ]
  },
  {
   "cell_type": "code",
   "execution_count": 4,
   "id": "a8aed7c9",
   "metadata": {},
   "outputs": [],
   "source": [
    "# TO MAKE A VARIABLE PROTECTED USE A SINGLE UNDERSCORE BEFORE VARIABLE NAME LIKE (_NAME = 'HASSAN')\n",
    "\n",
    "class Car():\n",
    "    \n",
    "    def __init__(self, windows, doors, enginetype):\n",
    "    # PROTECTED VARIABLE SHOULD BE ACCESSED FROM A CHILD CLASS BY DEFINITION BUT PYTHON HAS NO RESTRICTION \n",
    "        self._windows = windows\n",
    "        self._doors = doors\n",
    "        self._enginetype = enginetype\n",
    "        self.hp = '500 KMH'\n",
    "car = Car(4,4,'PETROL')     \n",
    "\n",
    "# you can check car it has only public variables available but if you want to access them you can also do\n"
   ]
  },
  {
   "cell_type": "code",
   "execution_count": 5,
   "id": "7a5dfaa3",
   "metadata": {},
   "outputs": [
    {
     "data": {
      "text/plain": [
       "'500 KMH'"
      ]
     },
     "execution_count": 5,
     "metadata": {},
     "output_type": "execute_result"
    }
   ],
   "source": [
    " car.hp"
   ]
  },
  {
   "cell_type": "code",
   "execution_count": 6,
   "id": "86e20550",
   "metadata": {},
   "outputs": [
    {
     "data": {
      "text/plain": [
       "4"
      ]
     },
     "execution_count": 6,
     "metadata": {},
     "output_type": "execute_result"
    }
   ],
   "source": [
    "# this is if you want to access them \n",
    "car._windows"
   ]
  },
  {
   "cell_type": "code",
   "execution_count": 10,
   "id": "78dc1d0e",
   "metadata": {},
   "outputs": [],
   "source": [
    "# TO MAKE A VARIABLE PRIVATE USE A DOUBLE UNDERSCORE BEFORE VARIABLE NAME LIKE (__NAME = 'HASSAN')\n",
    "\n",
    "class Car():\n",
    "    \n",
    "    def __init__(self, windows, doors, enginetype):\n",
    "    # PRIVATE VARIABLE ONLY ACCESSED WITH IN A CLASS BY DEFINITION NOT ACCESSED FROM ANYWHERE \n",
    "        self.__windows = windows\n",
    "        self.__doors = doors\n",
    "        self.__enginetype = enginetype\n",
    "        \n",
    "    def show(self):\n",
    "        print(self.__windows)\n",
    "        \n",
    "car = Car(4,4,'PETROL')     \n",
    "\n",
    "# you can check car it can only be accessed in a class and in entering class through show\n"
   ]
  },
  {
   "cell_type": "code",
   "execution_count": 12,
   "id": "7b3c91a4",
   "metadata": {},
   "outputs": [
    {
     "name": "stdout",
     "output_type": "stream",
     "text": [
      "4\n"
     ]
    }
   ],
   "source": [
    "car.show()"
   ]
  }
 ],
 "metadata": {
  "kernelspec": {
   "display_name": "Python 3 (ipykernel)",
   "language": "python",
   "name": "python3"
  },
  "language_info": {
   "codemirror_mode": {
    "name": "ipython",
    "version": 3
   },
   "file_extension": ".py",
   "mimetype": "text/x-python",
   "name": "python",
   "nbconvert_exporter": "python",
   "pygments_lexer": "ipython3",
   "version": "3.9.13"
  }
 },
 "nbformat": 4,
 "nbformat_minor": 5
}
