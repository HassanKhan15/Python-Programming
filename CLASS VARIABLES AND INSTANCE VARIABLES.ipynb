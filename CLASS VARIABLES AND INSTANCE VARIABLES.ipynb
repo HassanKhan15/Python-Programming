{
 "cells": [
  {
   "cell_type": "markdown",
   "id": "308f6231",
   "metadata": {},
   "source": [
    "#### CLASS VARIABLES (STATIC VARIABLES) AND INSTANCE/OBJECT VARIABLES (NON-STATIC VARIABLES):"
   ]
  },
  {
   "cell_type": "code",
   "execution_count": 1,
   "id": "f8200f67",
   "metadata": {},
   "outputs": [],
   "source": [
    "class Car():\n",
    "    \n",
    "    # static or class level variable\n",
    "    # can be updated using class name for all objects\n",
    "    wheels = 4\n",
    "    \n",
    "    def __init__(self):\n",
    "    \n",
    "    # non-static instance/object level variable\n",
    "    # can be updated using object name for particular object\n",
    "    \n",
    "        self.milage = '100'\n",
    "        self.company = 'BMW'"
   ]
  },
  {
   "cell_type": "code",
   "execution_count": 2,
   "id": "8f9dabd6",
   "metadata": {},
   "outputs": [],
   "source": [
    "c1 = Car()\n",
    "c2 = Car()"
   ]
  },
  {
   "cell_type": "code",
   "execution_count": 3,
   "id": "c47a0d5a",
   "metadata": {},
   "outputs": [
    {
     "data": {
      "text/plain": [
       "(4, 4, 4)"
      ]
     },
     "execution_count": 3,
     "metadata": {},
     "output_type": "execute_result"
    }
   ],
   "source": [
    "# wheel is a static variable and can be accessed through class name as well as object name\n",
    "\n",
    "Car.wheels, c1.wheels, c2.wheels"
   ]
  },
  {
   "cell_type": "code",
   "execution_count": 4,
   "id": "3614deb0",
   "metadata": {},
   "outputs": [],
   "source": [
    "# if we update wheels at class level it will be updated for every object of the class\n",
    "\n",
    "Car.wheels = 5"
   ]
  },
  {
   "cell_type": "code",
   "execution_count": 5,
   "id": "1f38a74c",
   "metadata": {},
   "outputs": [
    {
     "data": {
      "text/plain": [
       "(5, 5, 5)"
      ]
     },
     "execution_count": 5,
     "metadata": {},
     "output_type": "execute_result"
    }
   ],
   "source": [
    "Car.wheels, c1.wheels, c2.wheels"
   ]
  },
  {
   "cell_type": "code",
   "execution_count": 6,
   "id": "f93f6761",
   "metadata": {},
   "outputs": [],
   "source": [
    "# updating wheels for only a object c1 will not be change for any other object of car \n",
    "\n",
    "c1.wheels = 10"
   ]
  },
  {
   "cell_type": "code",
   "execution_count": 7,
   "id": "d8bd32f8",
   "metadata": {},
   "outputs": [
    {
     "data": {
      "text/plain": [
       "(5, 10, 5)"
      ]
     },
     "execution_count": 7,
     "metadata": {},
     "output_type": "execute_result"
    }
   ],
   "source": [
    "Car.wheels, c1.wheels, c2.wheels"
   ]
  },
  {
   "cell_type": "code",
   "execution_count": 10,
   "id": "aeb74f15",
   "metadata": {},
   "outputs": [
    {
     "data": {
      "text/plain": [
       "(6, 10, 6)"
      ]
     },
     "execution_count": 10,
     "metadata": {},
     "output_type": "execute_result"
    }
   ],
   "source": [
    "# updating wheel again at class level\n",
    "\n",
    "Car.wheels = 6\n",
    "\n",
    "# since object c1 has make it's own copy it will not be affectedd\n",
    "\n",
    "Car.wheels, c1.wheels, c2.wheels"
   ]
  },
  {
   "cell_type": "markdown",
   "id": "0da6be36",
   "metadata": {},
   "source": [
    "## CLASS METHODS, INSTANCE METHODS, STATIC METHODS\n",
    "\n",
    "IN THAT CASE CLASS AND STATIC METHODS ARE NOT SAME"
   ]
  },
  {
   "cell_type": "code",
   "execution_count": 5,
   "id": "cc4fdd65",
   "metadata": {},
   "outputs": [],
   "source": [
    "class Student():\n",
    "    \n",
    "    school = 'SMIU'\n",
    "    \n",
    "    def __init__(self, m1, m2, m3):\n",
    "        self.m1 = m1\n",
    "        self.m2 = m2\n",
    "        self.m3 = m3\n",
    "        \n",
    "    def avg(self):\n",
    "        return(self.m1 + self.m2 + self.m3) / 3\n",
    "    \n",
    "    def information(self):\n",
    "        return self.school"
   ]
  },
  {
   "cell_type": "code",
   "execution_count": 8,
   "id": "c0159db5",
   "metadata": {},
   "outputs": [
    {
     "name": "stdout",
     "output_type": "stream",
     "text": [
      "80.0\n",
      "61.666666666666664\n",
      "SMIU\n",
      "SMIU\n"
     ]
    },
    {
     "ename": "TypeError",
     "evalue": "information() missing 1 required positional argument: 'self'",
     "output_type": "error",
     "traceback": [
      "\u001b[1;31m---------------------------------------------------------------------------\u001b[0m",
      "\u001b[1;31mTypeError\u001b[0m                                 Traceback (most recent call last)",
      "\u001b[1;32m~\\AppData\\Local\\Temp\\ipykernel_12880\\439935106.py\u001b[0m in \u001b[0;36m<module>\u001b[1;34m\u001b[0m\n\u001b[0;32m     17\u001b[0m \u001b[1;31m# instance method called using only class name => ERROR\u001b[0m\u001b[1;33m\u001b[0m\u001b[1;33m\u001b[0m\u001b[0m\n\u001b[0;32m     18\u001b[0m \u001b[1;33m\u001b[0m\u001b[0m\n\u001b[1;32m---> 19\u001b[1;33m \u001b[0mprint\u001b[0m\u001b[1;33m(\u001b[0m\u001b[0mStudent\u001b[0m\u001b[1;33m.\u001b[0m\u001b[0minformation\u001b[0m\u001b[1;33m(\u001b[0m\u001b[1;33m)\u001b[0m\u001b[1;33m)\u001b[0m\u001b[1;33m\u001b[0m\u001b[1;33m\u001b[0m\u001b[0m\n\u001b[0m\u001b[0;32m     20\u001b[0m \u001b[0mprint\u001b[0m\u001b[1;33m(\u001b[0m\u001b[0mStudent\u001b[0m\u001b[1;33m.\u001b[0m\u001b[0mavg\u001b[0m\u001b[1;33m(\u001b[0m\u001b[1;33m)\u001b[0m\u001b[1;33m)\u001b[0m\u001b[1;33m\u001b[0m\u001b[1;33m\u001b[0m\u001b[0m\n",
      "\u001b[1;31mTypeError\u001b[0m: information() missing 1 required positional argument: 'self'"
     ]
    }
   ],
   "source": [
    "s1 = Student(80,90,70)\n",
    "s2 = Student(60,70,55)\n",
    "\n",
    "# instance method called using instance s1\n",
    "\n",
    "print(s1.avg())\n",
    "\n",
    "# instance method called using instance s2\n",
    "\n",
    "print(s2.avg())\n",
    "\n",
    "# instance method called using class name but instance is passed as a argument\n",
    "\n",
    "print(Student.information(s1))\n",
    "print(Student.information(s2))\n",
    "\n",
    "# instance method called using only class name => ERROR\n",
    "\n",
    "print(Student.information())\n",
    "print(Student.avg())"
   ]
  },
  {
   "cell_type": "markdown",
   "id": "37ad71be",
   "metadata": {},
   "source": [
    "## DESCRIPTION:\n",
    "\n",
    "avg is an instance method it required a instance/object to be called, information too.\n",
    "\n",
    "any instance method can not be called using only class name you have to pass instance too as a parameter.\n",
    "\n",
    "only class methods can be called by using a class name.\n",
    "\n",
    "class methods can be called using a class name as well as instance name\n",
    "\n",
    "to make a method class method we use decorator @classmethod this way information method can be called using an object name as well as \n",
    "\n",
    "    "
   ]
  },
  {
   "cell_type": "code",
   "execution_count": 1,
   "id": "f0406939",
   "metadata": {},
   "outputs": [],
   "source": [
    "class Student():\n",
    "    \n",
    "    school = 'SMIU'\n",
    "    \n",
    "    def __init__(self, m1, m2, m3):\n",
    "        self.m1 = m1\n",
    "        self.m2 = m2\n",
    "        self.m3 = m3\n",
    "        \n",
    "    # instance level method\n",
    "    #  can be called via instance only\n",
    "    \n",
    "    def avg(self):\n",
    "        return(self.m1 + self.m2 + self.m3) / 3\n",
    "     \n",
    "    # class level method\n",
    "    # can be called using class name as well as instance name\n",
    "    \n",
    "    @classmethod\n",
    "    def information(a):\n",
    "        return a.school"
   ]
  },
  {
   "cell_type": "code",
   "execution_count": 2,
   "id": "242a4e89",
   "metadata": {},
   "outputs": [
    {
     "name": "stdout",
     "output_type": "stream",
     "text": [
      "80.0\n",
      "61.666666666666664\n",
      "SMIU\n",
      "SMIU\n"
     ]
    }
   ],
   "source": [
    "s1 = Student(80,90,70)\n",
    "s2 = Student(60,70,55)\n",
    "\n",
    "# instance method called using instance s1\n",
    "\n",
    "print(s1.avg())\n",
    "\n",
    "# instance method called using instance s2\n",
    "\n",
    "print(s2.avg())\n",
    "\n",
    "# class method is called using instance name\n",
    "\n",
    "print(s1.information())\n",
    "\n",
    "# class method is called using class name\n",
    "\n",
    "print(Student.information())"
   ]
  },
  {
   "cell_type": "markdown",
   "id": "c108b862",
   "metadata": {},
   "source": [
    "## STATIC METHODS:\n",
    "\n",
    "static methods are methods that do not require any instance or any class"
   ]
  },
  {
   "cell_type": "code",
   "execution_count": 3,
   "id": "d19ee722",
   "metadata": {},
   "outputs": [],
   "source": [
    "class Student():\n",
    "    \n",
    "    school = 'SMIU'\n",
    "    \n",
    "    def __init__(self, m1, m2, m3):\n",
    "        self.m1 = m1\n",
    "        self.m2 = m2\n",
    "        self.m3 = m3\n",
    "        \n",
    "    # instance level method\n",
    "    #  can be called via instance only\n",
    "    \n",
    "    def avg(self):\n",
    "        return(self.m1 + self.m2 + self.m3) / 3\n",
    "     \n",
    "    # class level method\n",
    "    # can be called using class name as well as instance name\n",
    "    \n",
    "    @classmethod\n",
    "    def information(a):\n",
    "        return a.school\n",
    "    \n",
    "    # static level method\n",
    "    # no self required \n",
    "    \n",
    "    @staticmethod\n",
    "    def hello():\n",
    "        return \"I'm a static method\""
   ]
  },
  {
   "cell_type": "code",
   "execution_count": 4,
   "id": "b8d62221",
   "metadata": {},
   "outputs": [],
   "source": [
    "s3 = Student(25,30,40)"
   ]
  },
  {
   "cell_type": "code",
   "execution_count": 5,
   "id": "a7a4290b",
   "metadata": {},
   "outputs": [
    {
     "data": {
      "text/plain": [
       "\"I'm a static method\""
      ]
     },
     "execution_count": 5,
     "metadata": {},
     "output_type": "execute_result"
    }
   ],
   "source": [
    "# static method called\n",
    "\n",
    "s3.hello()"
   ]
  },
  {
   "cell_type": "code",
   "execution_count": 6,
   "id": "56bbaee3",
   "metadata": {},
   "outputs": [
    {
     "data": {
      "text/plain": [
       "\"I'm a static method\""
      ]
     },
     "execution_count": 6,
     "metadata": {},
     "output_type": "execute_result"
    }
   ],
   "source": [
    "# static method called\n",
    "\n",
    "Student.hello()"
   ]
  },
  {
   "cell_type": "markdown",
   "id": "d0bcc711",
   "metadata": {},
   "source": [
    "## INSTANCE AS A  ATTRIBUTE:"
   ]
  },
  {
   "cell_type": "code",
   "execution_count": 9,
   "id": "5e61b7a8",
   "metadata": {},
   "outputs": [],
   "source": [
    "class Electric_Car():\n",
    "    \n",
    "    def __init__(self, name, engine, capacity):\n",
    "        self.name = name\n",
    "        self.engine = engine\n",
    "        self.capacity = capacity\n",
    "        self.battery = Battery(\"EXIDE\", \"4\", \"500 HP\", \"20K\") # ==> INSTANCE AS ATTRIBUTE\n",
    "        \n",
    "        "
   ]
  },
  {
   "cell_type": "code",
   "execution_count": 10,
   "id": "00349dd3",
   "metadata": {},
   "outputs": [],
   "source": [
    "class Battery():\n",
    "    \n",
    "    def __init__(self, manufacturer, cells, watts, price):\n",
    "        self.manufacturer = manufacturer\n",
    "        self.cells = cells\n",
    "        self.watts = watts\n",
    "        self.price = price"
   ]
  },
  {
   "cell_type": "code",
   "execution_count": 11,
   "id": "da1a7f60",
   "metadata": {},
   "outputs": [],
   "source": [
    "ec1 = Electric_Car(\"TESLA\", \"200-CC\", \"4\")"
   ]
  },
  {
   "cell_type": "code",
   "execution_count": 12,
   "id": "c2640dc5",
   "metadata": {},
   "outputs": [
    {
     "data": {
      "text/plain": [
       "'TESLA'"
      ]
     },
     "execution_count": 12,
     "metadata": {},
     "output_type": "execute_result"
    }
   ],
   "source": [
    "ec1.name"
   ]
  },
  {
   "cell_type": "code",
   "execution_count": 14,
   "id": "1b5defd5",
   "metadata": {},
   "outputs": [
    {
     "data": {
      "text/plain": [
       "<__main__.Battery at 0x235864d6490>"
      ]
     },
     "execution_count": 14,
     "metadata": {},
     "output_type": "execute_result"
    }
   ],
   "source": [
    "ec1.battery\n",
    "\n",
    "# since battery is also an object that's why it returned also an object"
   ]
  },
  {
   "cell_type": "code",
   "execution_count": 15,
   "id": "6656b417",
   "metadata": {},
   "outputs": [
    {
     "data": {
      "text/plain": [
       "'20K'"
      ]
     },
     "execution_count": 15,
     "metadata": {},
     "output_type": "execute_result"
    }
   ],
   "source": [
    "ec1.battery.price"
   ]
  },
  {
   "cell_type": "markdown",
   "id": "f6fcb6a6",
   "metadata": {},
   "source": [
    "## INNER CLASSES:\n",
    "\n",
    "class inside a class is called as inner class\n"
   ]
  },
  {
   "cell_type": "code",
   "execution_count": 16,
   "id": "86bd2f4f",
   "metadata": {},
   "outputs": [],
   "source": [
    "class Student():\n",
    "    \n",
    "    def __init__(self, name, roll_no, brand, cpu, ram):\n",
    "        self.name = name\n",
    "        self.roll_no = roll_no \n",
    "        self.laptop = self.Laptop(brand, cpu, ram)\n",
    "        \n",
    "    def show(self):\n",
    "        print(self.name, self.roll_no)\n",
    "        self.laptop.show()\n",
    "        \n",
    "    #### INNER CLASS:\n",
    "    \n",
    "    class Laptop():\n",
    "        \n",
    "        def __init__(self, brand, cpu, ram):\n",
    "            self.brand = brand\n",
    "            self.cpu = cpu \n",
    "            self.ram = ram\n",
    "            \n",
    "        def show(self):\n",
    "            print(self.brand, self.cpu, self.ram)"
   ]
  },
  {
   "cell_type": "code",
   "execution_count": 17,
   "id": "ebe6d7e2",
   "metadata": {},
   "outputs": [],
   "source": [
    "s1 = Student(\"Hassan\", \"060\", \"HP-ELITE-BOOK\", \"i7\", \"16 gb\")\n",
    "s2 = Student(\"Ayan\", \"121\", \"HP-PRO-BOOK\", \"i5\", \"10 gb\")"
   ]
  },
  {
   "cell_type": "code",
   "execution_count": 18,
   "id": "aee90a7a",
   "metadata": {},
   "outputs": [
    {
     "name": "stdout",
     "output_type": "stream",
     "text": [
      "Hassan 060\n",
      "HP-ELITE-BOOK i7 16 gb\n",
      "Ayan 121\n",
      "HP-PRO-BOOK i5 10 gb\n"
     ]
    }
   ],
   "source": [
    "s1.show()\n",
    "s2.show()"
   ]
  },
  {
   "cell_type": "code",
   "execution_count": 20,
   "id": "03aa6cba",
   "metadata": {},
   "outputs": [
    {
     "name": "stdout",
     "output_type": "stream",
     "text": [
      "HP-ELITE-BOOK i7 16 gb\n",
      "HP-PRO-BOOK i5 10 gb\n"
     ]
    }
   ],
   "source": [
    "s1.laptop.show()\n",
    "s2.laptop.show()"
   ]
  }
 ],
 "metadata": {
  "kernelspec": {
   "display_name": "Python 3 (ipykernel)",
   "language": "python",
   "name": "python3"
  },
  "language_info": {
   "codemirror_mode": {
    "name": "ipython",
    "version": 3
   },
   "file_extension": ".py",
   "mimetype": "text/x-python",
   "name": "python",
   "nbconvert_exporter": "python",
   "pygments_lexer": "ipython3",
   "version": "3.9.13"
  }
 },
 "nbformat": 4,
 "nbformat_minor": 5
}
