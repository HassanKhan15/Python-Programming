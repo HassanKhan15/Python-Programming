{
 "cells": [
  {
   "cell_type": "markdown",
   "id": "ade5b5e7",
   "metadata": {},
   "source": [
    "# ENCAPSULATION"
   ]
  },
  {
   "cell_type": "markdown",
   "id": "ea9be356",
   "metadata": {},
   "source": [
    "Encapsulation is a mechanism of wrapping the data (variables) and code acting on the data (methods) together as a single unit.\n",
    "\n",
    "IN SIMPLE WORDS ENCAPSULATION IS THAT HIDDING THE ATTRIBUTES IN WHICH THE VALUE IS STORED AND SHOWING THEM IN A METHOD "
   ]
  },
  {
   "cell_type": "code",
   "execution_count": 18,
   "id": "8ee69f5d",
   "metadata": {},
   "outputs": [],
   "source": [
    "class Car():\n",
    "    def __init__(self, brand, model, transmission, color, engine):\n",
    "        self.car_brand = brand\n",
    "        self.car_model = model\n",
    "        self.car_transmission = transmission\n",
    "        self.car_color = color\n",
    "        self.car_engine = engine\n",
    "        \n",
    "    def get_brand(self):\n",
    "        print(f\"Your car brand is: {self.car_brand}\")\n",
    "        \n",
    "    def set_brand(self, update_brand):\n",
    "        self.car_brand = update_brand \n",
    "        \n",
    "    def get_model(self):\n",
    "        print(f\"Your car model is: {self.car_model}\")\n",
    "        \n",
    "    def set_model(self, update_model):\n",
    "        self.car_model = update_model \n",
    "        \n",
    "    def get_transmission(self):\n",
    "        print(f\"Your car transmission is: {self.car_transmission}\")\n",
    "        \n",
    "    def set_transmission(self, update_transmission):\n",
    "        self.car_brand = update_transmission\n",
    "        \n",
    "    def get_color(self):\n",
    "        print(f\"Your car color is: {self.car_color}\")\n",
    "        \n",
    "    def set_color(self, update_color):\n",
    "        self.car_color = update_color    \n",
    "        \n",
    "    def get_engine(self):\n",
    "        print(f\"Your car engine is: {self.car_engine}\")\n",
    "        \n",
    "    def set_engine(self, update_brand):\n",
    "        self.car_engine = update_engine    \n",
    "        \n",
    "    def start(self):\n",
    "        print(f\"{self.car_brand} {self.car_model} {self.car_transmission} {self.car_color} {self.car_engine} is running\")\n",
    "        \n",
    "    def stop(self):\n",
    "        print(f\"{self.car_brand} {self.car_model} {self.car_transmission} {self.car_color} {self.car_engine} is stopped\")\n",
    "\n",
    "    def fuel_tank(self):\n",
    "        print(f\"{self.car_brand} {self.car_model} {self.car_transmission} {self.car_color} {self.car_engine} is filling fuel tank\")"
   ]
  },
  {
   "cell_type": "code",
   "execution_count": 19,
   "id": "e3c22387",
   "metadata": {},
   "outputs": [],
   "source": [
    "c1 = Car('Honda','Civic','Auto','Black','2000-CC')"
   ]
  },
  {
   "cell_type": "code",
   "execution_count": 4,
   "id": "556195fe",
   "metadata": {},
   "outputs": [
    {
     "name": "stdout",
     "output_type": "stream",
     "text": [
      "Your car brand is: Honda\n"
     ]
    }
   ],
   "source": [
    "c1.get_brand()"
   ]
  },
  {
   "cell_type": "code",
   "execution_count": 21,
   "id": "13705fd6",
   "metadata": {},
   "outputs": [],
   "source": [
    "c1.set_brand(\"NISSAN\")"
   ]
  },
  {
   "cell_type": "code",
   "execution_count": 22,
   "id": "c1606ece",
   "metadata": {},
   "outputs": [
    {
     "name": "stdout",
     "output_type": "stream",
     "text": [
      "Your car brand is: NISSAN\n"
     ]
    }
   ],
   "source": [
    "c1.get_brand()"
   ]
  },
  {
   "cell_type": "code",
   "execution_count": 20,
   "id": "807c7ac2",
   "metadata": {},
   "outputs": [],
   "source": [
    "c1.set_color('RED')"
   ]
  },
  {
   "cell_type": "code",
   "execution_count": 23,
   "id": "60a15ebe",
   "metadata": {},
   "outputs": [
    {
     "name": "stdout",
     "output_type": "stream",
     "text": [
      "Your car color is: RED\n"
     ]
    }
   ],
   "source": [
    "c1.get_color()"
   ]
  },
  {
   "cell_type": "code",
   "execution_count": 6,
   "id": "589c717b",
   "metadata": {},
   "outputs": [
    {
     "name": "stdout",
     "output_type": "stream",
     "text": [
      "Your car brand is: Honda\n"
     ]
    }
   ],
   "source": [
    "c1.get_brand()"
   ]
  }
 ],
 "metadata": {
  "kernelspec": {
   "display_name": "Python 3 (ipykernel)",
   "language": "python",
   "name": "python3"
  },
  "language_info": {
   "codemirror_mode": {
    "name": "ipython",
    "version": 3
   },
   "file_extension": ".py",
   "mimetype": "text/x-python",
   "name": "python",
   "nbconvert_exporter": "python",
   "pygments_lexer": "ipython3",
   "version": "3.9.13"
  }
 },
 "nbformat": 4,
 "nbformat_minor": 5
}
