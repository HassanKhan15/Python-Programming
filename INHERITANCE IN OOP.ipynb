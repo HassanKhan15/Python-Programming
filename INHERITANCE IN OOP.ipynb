{
 "cells": [
  {
   "cell_type": "markdown",
   "id": "a7273ceb",
   "metadata": {},
   "source": [
    "# INHERITANCE:\n"
   ]
  },
  {
   "cell_type": "raw",
   "id": "13d4c960",
   "metadata": {},
   "source": [
    "TYPES OF INHERITANCE:\n",
    "1)SINGLE\n",
    "2)MULTIPLE\n",
    "3)MULTI-LEVEL"
   ]
  },
  {
   "cell_type": "markdown",
   "id": "4389918f",
   "metadata": {},
   "source": [
    "# SINGLE LEVEL:"
   ]
  },
  {
   "cell_type": "code",
   "execution_count": 1,
   "id": "7fe47c9f",
   "metadata": {},
   "outputs": [],
   "source": [
    "class Car():\n",
    "    def __init__(self, brand, model, transmission, color, engine): # __ pronounce as dunder.\n",
    "        self.car_brand = brand\n",
    "        self.car_model = model\n",
    "        self.car_transmission = transmission\n",
    "        self.car_color = color\n",
    "        self.car_engine = engine\n",
    "        \n",
    "    def start(self):\n",
    "        print(f\"{self.car_brand} {self.car_model} {self.car_transmission} {self.car_color} {self.car_engine} is running\")\n",
    "        \n",
    "    def stop(self):\n",
    "        print(f\"{self.car_brand} {self.car_model} {self.car_transmission} {self.car_color} {self.car_engine} is stopped\")\n",
    "\n",
    "    def fuel_tank(self):\n",
    "        print(f\"{self.car_brand} {self.car_model} {self.car_transmission} {self.car_color} {self.car_engine} is filling fuel tank\")"
   ]
  },
  {
   "cell_type": "code",
   "execution_count": 4,
   "id": "a9c31211",
   "metadata": {},
   "outputs": [],
   "source": [
    "c1 = Car('Honda','Civic','Auto','Black','2000-CC')"
   ]
  },
  {
   "cell_type": "code",
   "execution_count": 5,
   "id": "5ad5319a",
   "metadata": {},
   "outputs": [
    {
     "name": "stdout",
     "output_type": "stream",
     "text": [
      "Honda Civic Auto Black 2000-CC is running\n"
     ]
    }
   ],
   "source": [
    "c1.start()"
   ]
  },
  {
   "cell_type": "code",
   "execution_count": 11,
   "id": "37515b26",
   "metadata": {},
   "outputs": [],
   "source": [
    "class SportsCar(Car):\n",
    "    def __init__(self, brand, model, transmission, color, engine, top_speed, seats):\n",
    "        super().__init__(brand, model, transmission, color, engine)\n",
    "        self.car_top_speed = top_speed\n",
    "        self.car_seats = seats\n",
    "        \n",
    "    def currentSpeed(self):\n",
    "        print(f\"{self.car_brand} {self.car_model} {self.car_transmission} {self.car_color} {self.car_engine} is running at {self.car_top_speed} which is his high speed and contain {self.car_seats} seats\")        "
   ]
  },
  {
   "cell_type": "code",
   "execution_count": 12,
   "id": "818fae26",
   "metadata": {},
   "outputs": [],
   "source": [
    "sporty = SportsCar('NISSAN', 'JAGUAR', 'MANUAL', 'BLACK', '15000-CC', '500-KM/H', '2')"
   ]
  },
  {
   "cell_type": "code",
   "execution_count": 13,
   "id": "303231eb",
   "metadata": {},
   "outputs": [
    {
     "name": "stdout",
     "output_type": "stream",
     "text": [
      "NISSAN JAGUAR MANUAL BLACK 15000-CC is running at 500-KM/H which is his high speed and contain 2 seats\n"
     ]
    }
   ],
   "source": [
    "sporty.currentSpeed()"
   ]
  },
  {
   "cell_type": "markdown",
   "id": "d209cbab",
   "metadata": {},
   "source": [
    "# MULTI LEVEL:"
   ]
  },
  {
   "cell_type": "code",
   "execution_count": 1,
   "id": "3abfd3b3",
   "metadata": {},
   "outputs": [
    {
     "name": "stdout",
     "output_type": "stream",
     "text": [
      "Feature 1 is working\n",
      "Feature 2 is working\n"
     ]
    }
   ],
   "source": [
    "class A():\n",
    "    \n",
    "    def feature1(self):\n",
    "        print(\"Feature 1 is working\")\n",
    "        \n",
    "    def feature2(self):\n",
    "        print(\"Feature 2 is working\")\n",
    "        \n",
    "a1 = A()\n",
    "a1.feature1()\n",
    "a1.feature2()"
   ]
  },
  {
   "cell_type": "code",
   "execution_count": 2,
   "id": "371bc07b",
   "metadata": {},
   "outputs": [
    {
     "name": "stdout",
     "output_type": "stream",
     "text": [
      "Feature 1 is working\n",
      "Feature 2 is working\n",
      "Feature 3 is working\n",
      "Feature 4 is working\n"
     ]
    }
   ],
   "source": [
    "class B(A):\n",
    "    \n",
    "    def feature3(self):\n",
    "        print(\"Feature 3 is working\")\n",
    "        \n",
    "    def feature4(self):\n",
    "        print(\"Feature 4 is working\")\n",
    "        \n",
    "b1 = B()\n",
    "b1.feature1()\n",
    "b1.feature2()\n",
    "b1.feature3()\n",
    "b1.feature4()"
   ]
  },
  {
   "cell_type": "code",
   "execution_count": 3,
   "id": "5368207a",
   "metadata": {},
   "outputs": [
    {
     "name": "stdout",
     "output_type": "stream",
     "text": [
      "Feature 1 is working\n",
      "Feature 2 is working\n",
      "Feature 3 is working\n",
      "Feature 4 is working\n",
      "Feature 5 is working\n",
      "Feature 6 is working\n"
     ]
    }
   ],
   "source": [
    "class C(B):\n",
    "    \n",
    "    def feature5(self):\n",
    "        print(\"Feature 5 is working\")\n",
    "        \n",
    "    def feature6(self):\n",
    "        print(\"Feature 6 is working\")\n",
    "        \n",
    "c1 = C()\n",
    "c1.feature1()\n",
    "c1.feature2()\n",
    "c1.feature3()\n",
    "c1.feature4()\n",
    "c1.feature5()\n",
    "c1.feature6()"
   ]
  },
  {
   "cell_type": "markdown",
   "id": "17ddb8b8",
   "metadata": {},
   "source": [
    "# MULTIPLE LEVEL:"
   ]
  },
  {
   "cell_type": "code",
   "execution_count": 4,
   "id": "5b16cc90",
   "metadata": {},
   "outputs": [
    {
     "name": "stdout",
     "output_type": "stream",
     "text": [
      "Feature 1 is working\n",
      "Feature 2 is working\n"
     ]
    }
   ],
   "source": [
    "class A():\n",
    "    \n",
    "    def feature1(self):\n",
    "        print(\"Feature 1 is working\")\n",
    "        \n",
    "    def feature2(self):\n",
    "        print(\"Feature 2 is working\")\n",
    "        \n",
    "a1 = A()\n",
    "a1.feature1()\n",
    "a1.feature2()"
   ]
  },
  {
   "cell_type": "code",
   "execution_count": 5,
   "id": "dd45ba04",
   "metadata": {},
   "outputs": [
    {
     "name": "stdout",
     "output_type": "stream",
     "text": [
      "Feature 3 is working\n",
      "Feature 4 is working\n"
     ]
    }
   ],
   "source": [
    "class B():\n",
    "    \n",
    "    def feature3(self):\n",
    "        print(\"Feature 3 is working\")\n",
    "        \n",
    "    def feature4(self):\n",
    "        print(\"Feature 4 is working\")\n",
    "        \n",
    "b1 = B()\n",
    "b1.feature3()\n",
    "b1.feature4()"
   ]
  },
  {
   "cell_type": "code",
   "execution_count": 6,
   "id": "a776b5ff",
   "metadata": {},
   "outputs": [
    {
     "name": "stdout",
     "output_type": "stream",
     "text": [
      "Feature 1 is working\n",
      "Feature 2 is working\n",
      "Feature 3 is working\n",
      "Feature 4 is working\n",
      "Feature 5 is working\n",
      "Feature 6 is working\n"
     ]
    }
   ],
   "source": [
    "class C(A,B):\n",
    "    \n",
    "    def feature5(self):\n",
    "        print(\"Feature 5 is working\")\n",
    "        \n",
    "    def feature6(self):\n",
    "        print(\"Feature 6 is working\")\n",
    "        \n",
    "c1 = C()\n",
    "c1.feature1()\n",
    "c1.feature2()\n",
    "c1.feature3()\n",
    "c1.feature4()\n",
    "c1.feature5()\n",
    "c1.feature6()"
   ]
  },
  {
   "cell_type": "markdown",
   "id": "f301d75d",
   "metadata": {},
   "source": [
    "## CONSTRUCTOR IN MULTI-LEVEL INHERITANCE AND METHOD RESOLUTION ORDER:"
   ]
  },
  {
   "cell_type": "code",
   "execution_count": 2,
   "id": "a7fb484d",
   "metadata": {},
   "outputs": [
    {
     "name": "stdout",
     "output_type": "stream",
     "text": [
      "In init of A\n",
      "In init of A\n"
     ]
    }
   ],
   "source": [
    "class A():\n",
    "    def __init__(self):\n",
    "        print(\"In init of A\")\n",
    "        \n",
    "    def feature1(self):\n",
    "        print(\"Feature 1 is working\")\n",
    "        \n",
    "    def feature2(self):\n",
    "        print(\"Feature 2 is working\") \n",
    "     \n",
    "    \n",
    "class B(A):\n",
    "    \n",
    "    def feature3(self):\n",
    "        print(\"Feature 3 is working\")\n",
    "        \n",
    "    def feature4(self):\n",
    "        print(\"Feature 4 is working\")    \n",
    "\n",
    "a1 = A()\n",
    "# CONSTRUCTOR OF A IS CALLED WHEN WE ARE CREATING OBJECT OF A.\n",
    "b1 = B()\n",
    "# CONSTRUCTOR OF A IS CALLED EVEN IF WHEN WE ARE CREATING OBJECT OF B BECAUSE B INHERITED A AND B DONT HAVE ANY CONSTRUCTOR.        \n",
    "        "
   ]
  },
  {
   "cell_type": "code",
   "execution_count": 9,
   "id": "4c2578fc",
   "metadata": {},
   "outputs": [
    {
     "name": "stdout",
     "output_type": "stream",
     "text": [
      "In init of A\n",
      "In init of B\n"
     ]
    }
   ],
   "source": [
    "class A():\n",
    "    def __init__(self):\n",
    "        print(\"In init of A\")\n",
    "        \n",
    "    def feature1(self):\n",
    "        print(\"Feature 1 is working\")\n",
    "        \n",
    "    def feature2(self):\n",
    "        print(\"Feature 2 is working\") \n",
    "     \n",
    "    \n",
    "class B(A):\n",
    "    \n",
    "    def __init__(self):\n",
    "        print(\"In init of B\")\n",
    "    \n",
    "    def feature3(self):\n",
    "        print(\"Feature 3 is working\")\n",
    "        \n",
    "    def feature4(self):\n",
    "        print(\"Feature 4 is working\")    \n",
    "\n",
    "a1 = A()\n",
    "# CONSTRUCTOR OF A IS CALLED WHEN WE ARE CREATING OBJECT OF A.\n",
    "b1 = B()\n",
    "# CONSTRUCTOR OF B IS CALLED NOW BECAUSE B HAS CONSTRUCTOR, AND B INHERITED A BUT IF B HAS IT'S CONSTRUCTOR SO NO CONSTRUCTOR OF A IS CALLED UNTIL WE CALLED IT BY SUPER.        \n",
    "        "
   ]
  },
  {
   "cell_type": "code",
   "execution_count": 8,
   "id": "634ad00d",
   "metadata": {},
   "outputs": [
    {
     "name": "stdout",
     "output_type": "stream",
     "text": [
      "In init of A\n",
      "In init of B\n",
      "In init of A\n"
     ]
    }
   ],
   "source": [
    "class A():\n",
    "    def __init__(self):\n",
    "        print(\"In init of A\")\n",
    "        \n",
    "    def feature1(self):\n",
    "        print(\"Feature 1 is working\")\n",
    "        \n",
    "    def feature2(self):\n",
    "        print(\"Feature 2 is working\") \n",
    "     \n",
    "    \n",
    "class B(A):\n",
    "    \n",
    "    def __init__(self):\n",
    "        print(\"In init of B\")\n",
    "        super().__init__()\n",
    "    \n",
    "    def feature3(self):\n",
    "        print(\"Feature 3 is working\")\n",
    "        \n",
    "    def feature4(self):\n",
    "        print(\"Feature 4 is working\")    \n",
    "\n",
    "a1 = A()\n",
    "# CONSTRUCTOR OF A IS CALLED WHEN WE ARE CREATING OBJECT OF A.\n",
    "b1 = B()\n",
    "# IF WE WANT WHEN WE ARE CREATING OBJECT OF B SO THE CONSTRUCTOR OF A IS ALSO CALLED IN THAT CASE WE HAVE TO USE SUPER."
   ]
  },
  {
   "cell_type": "markdown",
   "id": "bd9f3875",
   "metadata": {},
   "source": [
    "## CONSTRUCTOR IN MULTIPLE INHERITANCE AND METHOD RESOLUTION ORDER:"
   ]
  },
  {
   "cell_type": "code",
   "execution_count": 3,
   "id": "af296cc9",
   "metadata": {},
   "outputs": [],
   "source": [
    "class A():\n",
    "    def __init__(self):\n",
    "        print(\"In init of A\")\n",
    "        \n",
    "    def feature1(self):\n",
    "        print(\"Feature 1 is working\")\n",
    "        \n",
    "    def feature2(self):\n",
    "        print(\"Feature 2 is working\") \n",
    "        \n",
    "    def show(self):\n",
    "        print(\"I'm showing class A\")"
   ]
  },
  {
   "cell_type": "code",
   "execution_count": 1,
   "id": "b00b5398",
   "metadata": {},
   "outputs": [],
   "source": [
    "class B():\n",
    "    \n",
    "    def __init__(self):\n",
    "        print(\"In init of B\")\n",
    "        super().__init__()\n",
    "    \n",
    "    def feature1(self):\n",
    "        print(\"Feature 1 is working\")\n",
    "        \n",
    "    def feature2(self):\n",
    "        print(\"Feature 2 is working\") \n",
    "    \n",
    "    def feature3(self):\n",
    "        print(\"Feature 3 is working\")\n",
    "        \n",
    "    def feature4(self):\n",
    "        print(\"Feature 4 is working\")\n",
    "        \n",
    "    def show(self):\n",
    "        print(\"I'm showing class A\")    "
   ]
  },
  {
   "cell_type": "code",
   "execution_count": 4,
   "id": "465895ba",
   "metadata": {},
   "outputs": [
    {
     "name": "stdout",
     "output_type": "stream",
     "text": [
      "In init of c\n",
      "In init of A\n",
      "I'm showing class A\n",
      "Feature 2 is working\n"
     ]
    }
   ],
   "source": [
    "class C(A,B):\n",
    "    \n",
    "    def __init__(self):\n",
    "        print(\"In init of c\")\n",
    "        super().__init__()\n",
    "        \n",
    "    def feat(self):\n",
    "        super().feature2()\n",
    "        \n",
    "# IN THIS CASE SUPER HAS 2 PARENT CLASSES SUPER WILL CONFUSE TO CALL INIT OF WHOM NOT ONLY INIT BUT IF SAME METHOD IN BOTH CLASSES NOW WHICH ONE IS CALLED?\n",
    "# SO FOR THE OVERCOME OF THIS PROBLEM WE HAVE A TERM CALLED MRO => METHOD RESOLUTION ORDER => WHICH IS LEFT TO RIGHT\n",
    "\n",
    "c1 = C()\n",
    "# SHOW METHOD IS IN BOTH CLASSES BUT SHOW OF A IS OCCURED DUE TO MRO.\n",
    "c1.show()\n",
    "c1.feat()"
   ]
  }
 ],
 "metadata": {
  "kernelspec": {
   "display_name": "Python 3 (ipykernel)",
   "language": "python",
   "name": "python3"
  },
  "language_info": {
   "codemirror_mode": {
    "name": "ipython",
    "version": 3
   },
   "file_extension": ".py",
   "mimetype": "text/x-python",
   "name": "python",
   "nbconvert_exporter": "python",
   "pygments_lexer": "ipython3",
   "version": "3.9.13"
  }
 },
 "nbformat": 4,
 "nbformat_minor": 5
}
