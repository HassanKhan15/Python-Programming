{
 "cells": [
  {
   "cell_type": "markdown",
   "id": "f833d4bb",
   "metadata": {},
   "source": [
    "# CLASS LEVEL ATTRIBUTES "
   ]
  },
  {
   "cell_type": "code",
   "execution_count": 6,
   "id": "62c2d0d3",
   "metadata": {},
   "outputs": [],
   "source": [
    "class Iphone():\n",
    "    \n",
    "    # ATTRIBUTES / CHARACTERISTICS / VARIABLES\n",
    "    \n",
    "    name = \"iphone 14\"\n",
    "    ram = \"24 gb\"\n",
    "    height = \"20 inch\"\n",
    "    camera = \"50 px\"\n",
    "    weight = \"50 gm\"\n",
    "    \n",
    "    # METHODS => (FUNCTIONS INSIDE THE CLASS IN KNOWN AS METHODS)\n",
    "    \n",
    "    def makeCall(self):\n",
    "        print(\"Calling\")\n",
    "    \n",
    "    def ansCall (self):\n",
    "        print(\"Receive Call\")\n",
    "    \n",
    "    def cutCall(self):\n",
    "        print(\"Deciline Call\")"
   ]
  },
  {
   "cell_type": "code",
   "execution_count": 8,
   "id": "1ab6190e",
   "metadata": {},
   "outputs": [],
   "source": [
    "phone = Iphone()"
   ]
  },
  {
   "cell_type": "code",
   "execution_count": 9,
   "id": "571a9a30",
   "metadata": {},
   "outputs": [
    {
     "name": "stdout",
     "output_type": "stream",
     "text": [
      "Receive Call\n"
     ]
    }
   ],
   "source": [
    "phone.ansCall()"
   ]
  },
  {
   "cell_type": "code",
   "execution_count": 11,
   "id": "cfc6cf64",
   "metadata": {},
   "outputs": [
    {
     "name": "stdout",
     "output_type": "stream",
     "text": [
      "Calling\n"
     ]
    }
   ],
   "source": [
    "phone.makeCall()"
   ]
  },
  {
   "cell_type": "code",
   "execution_count": 13,
   "id": "68c90867",
   "metadata": {},
   "outputs": [
    {
     "data": {
      "text/plain": [
       "'iphone 14'"
      ]
     },
     "execution_count": 13,
     "metadata": {},
     "output_type": "execute_result"
    }
   ],
   "source": [
    "phone.name"
   ]
  },
  {
   "cell_type": "markdown",
   "id": "f3c7da9f",
   "metadata": {},
   "source": [
    "# INSTANCE LEVEL ATTRIBUTES"
   ]
  },
  {
   "cell_type": "code",
   "execution_count": 37,
   "id": "4c8774ec",
   "metadata": {},
   "outputs": [],
   "source": [
    "class Patient():\n",
    "    \n",
    "    # init => Initializer or Constructor (Initializes the Object)\n",
    "    \n",
    "    def __init__(self,p_id,name,age,sex,disease,contact):\n",
    "        \n",
    "        #self main automatically object name ata ha jo hum create kartay hain like p1 object we create \n",
    "        \n",
    "        self.p_id = p_id\n",
    "        self.p_name = name\n",
    "        self.p_age = age\n",
    "        self.p_sex = sex\n",
    "        self.p_disease = disease\n",
    "        self.p_contact = contact\n",
    "        \n",
    "    def disease(self):\n",
    "        print(f\"{self.p_name} is diagnosed with {self.p_disease}\")\n",
    "        \n",
    "    def info(self):\n",
    "        print(f\"Patient id: {self.p_id} and gender is: {self.p_sex}\")\n",
    "        \n",
    "    def discharge(self, bill):\n",
    "        if bill == True:\n",
    "            print(f\"{self.p_name} is discharged\")    \n",
    "        else:\n",
    "             print(f\"{self.p_name} please clear your dues before leaving\")\n",
    "                \n",
    "    def patientCard(self):\n",
    "        print(f\"\"\"\n",
    "                 PATIENT CARD:\n",
    "                 ____________\n",
    "                     \n",
    "                PATIENT ID = {self.p_id}\n",
    "                PATIENT NAME = {self.p_name}\n",
    "                PATIENT AGE = {self.p_age}\n",
    "                PATIENT SEX = {self.p_sex}\n",
    "                PATIENT DISEASE = {self.p_disease}\n",
    "                PATIENT CONTACT = {self.p_contact}\n",
    "        \n",
    "        \"\"\")"
   ]
  },
  {
   "cell_type": "code",
   "execution_count": 38,
   "id": "65260a67",
   "metadata": {},
   "outputs": [],
   "source": [
    "p1 = Patient(100,'Adil',25,'M','Heart','09365473')"
   ]
  },
  {
   "cell_type": "code",
   "execution_count": 39,
   "id": "8e854180",
   "metadata": {},
   "outputs": [
    {
     "name": "stdout",
     "output_type": "stream",
     "text": [
      "\n",
      "                 PATIENT CARD:\n",
      "                 ____________\n",
      "                     \n",
      "                PATIENT ID = 100\n",
      "                PATIENT NAME = Adil\n",
      "                PATIENT AGE = 25\n",
      "                PATIENT SEX = M\n",
      "                PATIENT DISEASE = Heart\n",
      "                PATIENT CONTACT = 09365473\n",
      "        \n",
      "        \n"
     ]
    }
   ],
   "source": [
    "p1.patientCard()"
   ]
  },
  {
   "cell_type": "code",
   "execution_count": 29,
   "id": "c5a83790",
   "metadata": {},
   "outputs": [
    {
     "name": "stdout",
     "output_type": "stream",
     "text": [
      "Adil is discharged\n"
     ]
    }
   ],
   "source": [
    "p1.discharge(True)"
   ]
  },
  {
   "cell_type": "code",
   "execution_count": 30,
   "id": "c8f0f4be",
   "metadata": {},
   "outputs": [
    {
     "name": "stdout",
     "output_type": "stream",
     "text": [
      "Adil please clear your dues before leaving\n"
     ]
    }
   ],
   "source": [
    "p1.discharge(False)"
   ]
  },
  {
   "cell_type": "code",
   "execution_count": 26,
   "id": "b9ffe99f",
   "metadata": {},
   "outputs": [
    {
     "name": "stdout",
     "output_type": "stream",
     "text": [
      "Patient id: 100 and gender is: M\n"
     ]
    }
   ],
   "source": [
    "p1.info()"
   ]
  },
  {
   "cell_type": "code",
   "execution_count": 22,
   "id": "5296deac",
   "metadata": {},
   "outputs": [
    {
     "name": "stdout",
     "output_type": "stream",
     "text": [
      "Adil is diagnosed with Heart\n"
     ]
    }
   ],
   "source": [
    "p1.disease()"
   ]
  },
  {
   "cell_type": "code",
   "execution_count": 4,
   "id": "79bcb2a9",
   "metadata": {},
   "outputs": [
    {
     "data": {
      "text/plain": [
       "'Adil'"
      ]
     },
     "execution_count": 4,
     "metadata": {},
     "output_type": "execute_result"
    }
   ],
   "source": [
    "p1.p_name"
   ]
  },
  {
   "cell_type": "code",
   "execution_count": 5,
   "id": "bf9fd700",
   "metadata": {},
   "outputs": [
    {
     "data": {
      "text/plain": [
       "'09365473'"
      ]
     },
     "execution_count": 5,
     "metadata": {},
     "output_type": "execute_result"
    }
   ],
   "source": [
    "p1.p_contact"
   ]
  },
  {
   "cell_type": "code",
   "execution_count": 6,
   "id": "442f2756",
   "metadata": {},
   "outputs": [],
   "source": [
    "p2 = Patient(136,'Hira',21,'Transgender','Dil beth raha ha','03236073203')"
   ]
  },
  {
   "cell_type": "code",
   "execution_count": 7,
   "id": "636aa855",
   "metadata": {},
   "outputs": [
    {
     "data": {
      "text/plain": [
       "'Transgender'"
      ]
     },
     "execution_count": 7,
     "metadata": {},
     "output_type": "execute_result"
    }
   ],
   "source": [
    "p2.p_sex"
   ]
  },
  {
   "cell_type": "code",
   "execution_count": 8,
   "id": "b0a7ae46",
   "metadata": {},
   "outputs": [
    {
     "data": {
      "text/plain": [
       "'Dil beth raha ha'"
      ]
     },
     "execution_count": 8,
     "metadata": {},
     "output_type": "execute_result"
    }
   ],
   "source": [
    "p2.p_disease"
   ]
  }
 ],
 "metadata": {
  "kernelspec": {
   "display_name": "Python 3 (ipykernel)",
   "language": "python",
   "name": "python3"
  },
  "language_info": {
   "codemirror_mode": {
    "name": "ipython",
    "version": 3
   },
   "file_extension": ".py",
   "mimetype": "text/x-python",
   "name": "python",
   "nbconvert_exporter": "python",
   "pygments_lexer": "ipython3",
   "version": "3.9.13"
  }
 },
 "nbformat": 4,
 "nbformat_minor": 5
}
