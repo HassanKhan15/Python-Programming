{
 "cells": [
  {
   "cell_type": "markdown",
   "id": "f11e2ce8",
   "metadata": {},
   "source": [
    "# ABSTRACTION:\n",
    "\n",
    "HIDDING THE IMPLEMENTATION DETAIL FROM THE USER SHOWING THE ONLY NEEDED INFORMATION TO THE USER.\n",
    "\n",
    "ABSTRACT CLASS AND METHODS IN PYTHON:\n",
    "\n",
    "*) PYTHON DOES NOT SUPPORT ABSTRACTION\n",
    "*) FOR IMPLEMENTING ABSTRACTION WE WILL USE A MODULE ABC FOR ABSTRACTION\n",
    "*) ABC MEANS ABSTRACT BASE CLASSES\n",
    "\n",
    "PYTHON IS NOT A TYPED LANGUAGE THAT'S WHY ABSTRACTION IS NOT SUPPORTED THERE IS NO RESTRICTIONS OF PARAMETERS TYPE THERE IS NO RESTRICTION FOR THE FUNCTION RETURN THAT'S WHY PYTHON DOES NOT SUPPORT ABSTRACTION BECAUSE FOR IMPLEMENTING ABSTRACTION WE HAVE TO BE CAREFUL ABOUT THE DATA TYPE."
   ]
  },
  {
   "cell_type": "code",
   "execution_count": 1,
   "id": "d12781d7",
   "metadata": {},
   "outputs": [],
   "source": [
    "# A NORMAL CLASS AND A NORMAL METHOD\n",
    "\n",
    "class Computer():\n",
    "    \n",
    "    def processing(self):\n",
    "        print(\"Running\")"
   ]
  },
  {
   "cell_type": "code",
   "execution_count": null,
   "id": "c42a8a18",
   "metadata": {},
   "outputs": [],
   "source": [
    "# A METHOD THAT ONLY HAS DECLARATION BUT HAS NOTHING IN IT IS KNOWN AS ABSTRACT METHOD AND A CLASS IN WICH ABSTRACT METHOD IS KNOWN AS ABSTRACT CLASS\n",
    "\n",
    "class Computer():\n",
    "    \n",
    "    def processing(self):\n",
    "        pass\n",
    "    \n",
    "# A CLASS HAVING A METHODS THAT HAS NO BODY    "
   ]
  },
  {
   "cell_type": "raw",
   "id": "84d1ee3a",
   "metadata": {},
   "source": [
    "HIDDING THE IMPLEMENTAION DETAILS OF A METHOD IS CALLED ABSTRACTION\n",
    "WE CAN NOT CREATE AN OBJECT OF ABSTRACT CLASSES\n",
    "THIS IS THE ACTUAL DEFINITION OF ABSTRACTION BUT PYTHON DOES NOT SUPPORT ABSTRACTION"
   ]
  },
  {
   "cell_type": "code",
   "execution_count": 2,
   "id": "5d13b13c",
   "metadata": {},
   "outputs": [
    {
     "name": "stdout",
     "output_type": "stream",
     "text": [
      "Running\n"
     ]
    }
   ],
   "source": [
    "com1 = Computer()\n",
    "com1.processing()\n",
    "\n",
    "# THERE IS NO ERROR WE ARE ABLE TO CREATE OBJECT AND CALL IT'S METHOD\n",
    "# BECAUSE THIS IS NOT AN ABSTRACT CLASS AND METHOD"
   ]
  },
  {
   "cell_type": "code",
   "execution_count": 3,
   "id": "f7b12b98",
   "metadata": {},
   "outputs": [],
   "source": [
    "# FOR IMPLEMENTING ABSTRACTION WE HAVE TO USE THE MODULE \n",
    "\n",
    "from abc import ABC, abstractmethod"
   ]
  },
  {
   "cell_type": "markdown",
   "id": "2ee167c9",
   "metadata": {},
   "source": [
    "#### TO MAKE A CLASS ABSTRACT:\n",
    "IT MUST INHERIT THE ABC CLASS FROM abc module\n",
    "IT MUST HAVE ATLEAST A ABSTRACT METHOD (WHICH IS DEFINED USING A DECORATOR @abstractmethod)"
   ]
  },
  {
   "cell_type": "code",
   "execution_count": 5,
   "id": "95460bd5",
   "metadata": {},
   "outputs": [],
   "source": [
    "class Computer(ABC):\n",
    "    \n",
    "    @abstractmethod\n",
    "    def processing(self):\n",
    "        pass\n",
    "    \n",
    "    @abstractmethod\n",
    "    def greet(self):\n",
    "        print(\"Hello\")\n",
    "    "
   ]
  },
  {
   "cell_type": "code",
   "execution_count": 6,
   "id": "f2f9b19e",
   "metadata": {},
   "outputs": [
    {
     "ename": "TypeError",
     "evalue": "Can't instantiate abstract class Computer with abstract methods greet, processing",
     "output_type": "error",
     "traceback": [
      "\u001b[1;31m---------------------------------------------------------------------------\u001b[0m",
      "\u001b[1;31mTypeError\u001b[0m                                 Traceback (most recent call last)",
      "\u001b[1;32m~\\AppData\\Local\\Temp\\ipykernel_11668\\1667792715.py\u001b[0m in \u001b[0;36m<module>\u001b[1;34m\u001b[0m\n\u001b[1;32m----> 1\u001b[1;33m \u001b[0mcom1\u001b[0m \u001b[1;33m=\u001b[0m \u001b[0mComputer\u001b[0m\u001b[1;33m(\u001b[0m\u001b[1;33m)\u001b[0m\u001b[1;33m\u001b[0m\u001b[1;33m\u001b[0m\u001b[0m\n\u001b[0m",
      "\u001b[1;31mTypeError\u001b[0m: Can't instantiate abstract class Computer with abstract methods greet, processing"
     ]
    }
   ],
   "source": [
    "com1 = Computer()\n",
    "\n",
    "# WE CANNOT CREATE THE OBJECT THE OF ABSTRACT CLASSES."
   ]
  },
  {
   "cell_type": "raw",
   "id": "9990c585",
   "metadata": {},
   "source": [
    "NOTE: \n",
    "\n",
    "IF ANY CLASS INHERIT THE ABSTRACT CLASS SO IT MUST NECESSARY FOR THEM TO OVERRIDE ALL THE @abstractmethod AND DEFINE THERE BODY OTHERWISE IT WILL NOT BE A CHILD OF ABSTRACT CLASS THERE WILL BE A ERROR"
   ]
  },
  {
   "cell_type": "code",
   "execution_count": 12,
   "id": "257854b2",
   "metadata": {},
   "outputs": [],
   "source": [
    "class Computer(ABC):\n",
    "    \n",
    "    @abstractmethod\n",
    "    def processing(self):\n",
    "        pass\n",
    "    \n",
    "    def greet(self):\n",
    "        pass\n",
    "    "
   ]
  },
  {
   "cell_type": "code",
   "execution_count": 13,
   "id": "73128776",
   "metadata": {},
   "outputs": [],
   "source": [
    "class Laptop(Computer):\n",
    "    \n",
    "    def processing(self):\n",
    "        print(\"Running\")"
   ]
  },
  {
   "cell_type": "code",
   "execution_count": 14,
   "id": "482fbaa3",
   "metadata": {},
   "outputs": [
    {
     "name": "stdout",
     "output_type": "stream",
     "text": [
      "Running\n"
     ]
    }
   ],
   "source": [
    "l1 = Laptop()\n",
    "l1.processing()"
   ]
  },
  {
   "cell_type": "code",
   "execution_count": 15,
   "id": "4c6af6f7",
   "metadata": {},
   "outputs": [],
   "source": [
    "class Computer(ABC):\n",
    "    \n",
    "    @abstractmethod\n",
    "    def processing(self):\n",
    "        pass\n",
    "    \n",
    "    @abstractmethod\n",
    "    def greet(self):\n",
    "        pass\n",
    "    "
   ]
  },
  {
   "cell_type": "code",
   "execution_count": 16,
   "id": "1c6099cb",
   "metadata": {},
   "outputs": [],
   "source": [
    "class Laptop(Computer):\n",
    "    \n",
    "    def processing(self):\n",
    "        print(\"Running\")\n",
    "        \n",
    "    def greet(self):\n",
    "        print(\"Salam\")"
   ]
  },
  {
   "cell_type": "code",
   "execution_count": 17,
   "id": "03b72b0a",
   "metadata": {},
   "outputs": [
    {
     "name": "stdout",
     "output_type": "stream",
     "text": [
      "Running\n",
      "Salam\n"
     ]
    }
   ],
   "source": [
    "l1 = Laptop()\n",
    "l1.processing()\n",
    "l1.greet()"
   ]
  },
  {
   "cell_type": "code",
   "execution_count": 18,
   "id": "efc8c3e0",
   "metadata": {},
   "outputs": [],
   "source": [
    "class Computer(ABC):\n",
    "    \n",
    "    @abstractmethod\n",
    "    def processing(self):\n",
    "        pass\n",
    "    \n",
    "    @abstractmethod\n",
    "    def greet(self):\n",
    "        pass\n",
    "    "
   ]
  },
  {
   "cell_type": "code",
   "execution_count": 19,
   "id": "bc24e09a",
   "metadata": {},
   "outputs": [],
   "source": [
    "class Laptop(Computer):\n",
    "    \n",
    "    def processing(self):\n",
    "        print(\"Running\")"
   ]
  },
  {
   "cell_type": "code",
   "execution_count": 20,
   "id": "70ed75a9",
   "metadata": {},
   "outputs": [
    {
     "ename": "TypeError",
     "evalue": "Can't instantiate abstract class Laptop with abstract method greet",
     "output_type": "error",
     "traceback": [
      "\u001b[1;31m---------------------------------------------------------------------------\u001b[0m",
      "\u001b[1;31mTypeError\u001b[0m                                 Traceback (most recent call last)",
      "\u001b[1;32m~\\AppData\\Local\\Temp\\ipykernel_11668\\3745717998.py\u001b[0m in \u001b[0;36m<module>\u001b[1;34m\u001b[0m\n\u001b[1;32m----> 1\u001b[1;33m \u001b[0ml1\u001b[0m \u001b[1;33m=\u001b[0m \u001b[0mLaptop\u001b[0m\u001b[1;33m(\u001b[0m\u001b[1;33m)\u001b[0m\u001b[1;33m\u001b[0m\u001b[1;33m\u001b[0m\u001b[0m\n\u001b[0m",
      "\u001b[1;31mTypeError\u001b[0m: Can't instantiate abstract class Laptop with abstract method greet"
     ]
    }
   ],
   "source": [
    "l1 = Laptop()"
   ]
  },
  {
   "cell_type": "markdown",
   "id": "fd17e0de",
   "metadata": {},
   "source": [
    "## WHAT IS THE USE OF THIS CONCEPT OF FUNCTIONALITY"
   ]
  },
  {
   "cell_type": "raw",
   "id": "fad9405f",
   "metadata": {},
   "source": [
    "THROUGH ABSTRACTION WE CAN PROVIDE A USER AN INTERFACE THAT ONLY SHOW THE BEHAVIOUR NOT THE IMPLEMENTATION OF THAT BEHAVIOUR.\n",
    "\n",
    "LIKE WE SHOW A COMPUTER TO USER THATS RUNS PROCESSING AND USER CAN ONLY SEE THE NAME OF BEHAVIOUR BUT THERE IS NO IMPLEMENTATION IN IT.\n",
    "\n",
    "IMPLEMENTAION IS DONE IN CHILD CLASS.\n",
    "\n",
    "ABSTRACTION IS DONE BY USING INHERITANCE AND POLYMORPHISM."
   ]
  },
  {
   "cell_type": "code",
   "execution_count": 22,
   "id": "b1d66d5c",
   "metadata": {},
   "outputs": [],
   "source": [
    "from abc import ABC, abstractmethod"
   ]
  },
  {
   "cell_type": "code",
   "execution_count": 24,
   "id": "d5892865",
   "metadata": {},
   "outputs": [],
   "source": [
    "class Car(ABC):\n",
    "    \n",
    "    @abstractmethod\n",
    "    def milage(self):\n",
    "        pass"
   ]
  },
  {
   "cell_type": "code",
   "execution_count": 27,
   "id": "968bf2f2",
   "metadata": {},
   "outputs": [
    {
     "name": "stdout",
     "output_type": "stream",
     "text": [
      "THE MILAGE IS 30 KM/H\n"
     ]
    }
   ],
   "source": [
    "class Tesla(Car):\n",
    "    \n",
    "    def milage(self):\n",
    "        print(\"THE MILAGE IS 30 KM/H\")\n",
    "        \n",
    "t = Tesla()\n",
    "t.milage()"
   ]
  },
  {
   "cell_type": "code",
   "execution_count": 28,
   "id": "606d09e4",
   "metadata": {},
   "outputs": [
    {
     "name": "stdout",
     "output_type": "stream",
     "text": [
      "THE MILAGE IS 25 KM/H\n"
     ]
    }
   ],
   "source": [
    "class Suzuki(Car):\n",
    "    \n",
    "    def milage(self):\n",
    "        print(\"THE MILAGE IS 25 KM/H\")\n",
    "        \n",
    "s = Suzuki()\n",
    "s.milage()        "
   ]
  },
  {
   "cell_type": "code",
   "execution_count": 29,
   "id": "c8d114a0",
   "metadata": {},
   "outputs": [
    {
     "name": "stdout",
     "output_type": "stream",
     "text": [
      "THE MILAGE IS 28 KM/H\n"
     ]
    }
   ],
   "source": [
    "class Renault(Car):\n",
    "    \n",
    "    def milage(self):\n",
    "        print(\"THE MILAGE IS 28 KM/H\")\n",
    "        \n",
    "r = Renault()\n",
    "r.milage()        "
   ]
  }
 ],
 "metadata": {
  "kernelspec": {
   "display_name": "Python 3 (ipykernel)",
   "language": "python",
   "name": "python3"
  },
  "language_info": {
   "codemirror_mode": {
    "name": "ipython",
    "version": 3
   },
   "file_extension": ".py",
   "mimetype": "text/x-python",
   "name": "python",
   "nbconvert_exporter": "python",
   "pygments_lexer": "ipython3",
   "version": "3.9.13"
  }
 },
 "nbformat": 4,
 "nbformat_minor": 5
}
