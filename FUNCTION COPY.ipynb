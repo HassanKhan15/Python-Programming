{
 "cells": [
  {
   "cell_type": "markdown",
   "id": "e414cb9d",
   "metadata": {},
   "source": [
    "# FUNCTION COPY"
   ]
  },
  {
   "cell_type": "code",
   "execution_count": 1,
   "id": "52c2e4aa",
   "metadata": {},
   "outputs": [],
   "source": [
    "def welcome():\n",
    "    print(\"Hello world\")"
   ]
  },
  {
   "cell_type": "code",
   "execution_count": 2,
   "id": "391ba72d",
   "metadata": {},
   "outputs": [
    {
     "name": "stdout",
     "output_type": "stream",
     "text": [
      "Hello world\n"
     ]
    }
   ],
   "source": [
    "welcome()"
   ]
  },
  {
   "cell_type": "code",
   "execution_count": 3,
   "id": "f1619536",
   "metadata": {},
   "outputs": [
    {
     "name": "stdout",
     "output_type": "stream",
     "text": [
      "Hello world\n"
     ]
    }
   ],
   "source": [
    "well = welcome()\n",
    "\n",
    "# welcome when called print line executed but it does not return anything so what will be in well let's check it."
   ]
  },
  {
   "cell_type": "code",
   "execution_count": 5,
   "id": "e3f1d7d9",
   "metadata": {},
   "outputs": [
    {
     "name": "stdout",
     "output_type": "stream",
     "text": [
      "None\n"
     ]
    }
   ],
   "source": [
    "print(well)\n",
    "\n",
    "# here it is that it's showing none"
   ]
  },
  {
   "cell_type": "code",
   "execution_count": 6,
   "id": "ed6ea050",
   "metadata": {},
   "outputs": [],
   "source": [
    "# in print case we see that it showing none now in return case let's check it out\n",
    "\n",
    "def welcome():\n",
    "    return \"Hello world\""
   ]
  },
  {
   "cell_type": "code",
   "execution_count": 7,
   "id": "4dc046af",
   "metadata": {},
   "outputs": [
    {
     "data": {
      "text/plain": [
       "'Hello world'"
      ]
     },
     "execution_count": 7,
     "metadata": {},
     "output_type": "execute_result"
    }
   ],
   "source": [
    "welcome()"
   ]
  },
  {
   "cell_type": "code",
   "execution_count": 10,
   "id": "42a83ff4",
   "metadata": {},
   "outputs": [],
   "source": [
    "well = welcome()\n",
    "\n",
    "# when we are calling well it's calling welcome function and it's return value comes in well and this behaviour is known as function copy.\n",
    "\n",
    "# in that case welcome return value is stored in well\n",
    "# also we can say that function output is stored in a variable\n",
    "# also we can say that we called function now well"
   ]
  },
  {
   "cell_type": "code",
   "execution_count": 11,
   "id": "a53bcd62",
   "metadata": {},
   "outputs": [
    {
     "name": "stdout",
     "output_type": "stream",
     "text": [
      "Hello world\n"
     ]
    }
   ],
   "source": [
    "print(well)\n",
    "\n",
    "# now it's not showing none because function return value is stored in well"
   ]
  },
  {
   "cell_type": "code",
   "execution_count": 12,
   "id": "9f7723be",
   "metadata": {},
   "outputs": [
    {
     "data": {
      "text/plain": [
       "'Hello world'"
      ]
     },
     "execution_count": 12,
     "metadata": {},
     "output_type": "execute_result"
    }
   ],
   "source": [
    "well"
   ]
  },
  {
   "cell_type": "code",
   "execution_count": 14,
   "id": "77e6863a",
   "metadata": {},
   "outputs": [],
   "source": [
    "# NOW IMPORTANT CONCEPT IF WE DELETE THE WELCOME FUNCTION\n",
    "\n",
    "del welcome"
   ]
  },
  {
   "cell_type": "code",
   "execution_count": 15,
   "id": "bd2d6204",
   "metadata": {},
   "outputs": [
    {
     "ename": "NameError",
     "evalue": "name 'welcome' is not defined",
     "output_type": "error",
     "traceback": [
      "\u001b[1;31m---------------------------------------------------------------------------\u001b[0m",
      "\u001b[1;31mNameError\u001b[0m                                 Traceback (most recent call last)",
      "\u001b[1;32m~\\AppData\\Local\\Temp\\ipykernel_1948\\2540047295.py\u001b[0m in \u001b[0;36m<module>\u001b[1;34m\u001b[0m\n\u001b[0;32m      1\u001b[0m \u001b[1;31m# now after deleting the function can we call it let's check it out\u001b[0m\u001b[1;33m\u001b[0m\u001b[1;33m\u001b[0m\u001b[0m\n\u001b[0;32m      2\u001b[0m \u001b[1;33m\u001b[0m\u001b[0m\n\u001b[1;32m----> 3\u001b[1;33m \u001b[0mwelcome\u001b[0m\u001b[1;33m(\u001b[0m\u001b[1;33m)\u001b[0m\u001b[1;33m\u001b[0m\u001b[1;33m\u001b[0m\u001b[0m\n\u001b[0m",
      "\u001b[1;31mNameError\u001b[0m: name 'welcome' is not defined"
     ]
    }
   ],
   "source": [
    "# now after deleting the function can we call it let's check it out\n",
    "\n",
    "welcome()\n",
    "\n",
    "# it's showing error "
   ]
  },
  {
   "cell_type": "code",
   "execution_count": 17,
   "id": "2a3a9255",
   "metadata": {},
   "outputs": [
    {
     "data": {
      "text/plain": [
       "'Hello world'"
      ]
     },
     "execution_count": 17,
     "metadata": {},
     "output_type": "execute_result"
    }
   ],
   "source": [
    "# now in above we create the copy of welcome in well now let's check well\n",
    "\n",
    "well\n",
    "\n",
    "# it's showing the output means that if we create the copy of function and function is deleted after that the copy is not deleted."
   ]
  },
  {
   "cell_type": "code",
   "execution_count": 18,
   "id": "b46285bf",
   "metadata": {},
   "outputs": [],
   "source": [
    "# now we can not change tha behaviour or anything of well but we can override it like that\n",
    "\n",
    "well = \"World Hello\""
   ]
  },
  {
   "cell_type": "code",
   "execution_count": 19,
   "id": "df2ac856",
   "metadata": {},
   "outputs": [
    {
     "data": {
      "text/plain": [
       "'World Hello'"
      ]
     },
     "execution_count": 19,
     "metadata": {},
     "output_type": "execute_result"
    }
   ],
   "source": [
    "well"
   ]
  },
  {
   "cell_type": "markdown",
   "id": "63eae131",
   "metadata": {},
   "source": [
    "## CLOSURES\n",
    "\n",
    "FUNCTION INSIDE A FUNCTION IS CALLED A CLOSURE FUNCTION"
   ]
  },
  {
   "cell_type": "code",
   "execution_count": 22,
   "id": "1b7bccbc",
   "metadata": {},
   "outputs": [],
   "source": [
    "def parent(msg): # function is created and it has one parameter\n",
    "    \n",
    "    def child(): # inside the parent function child function is created but it will not call until and unless we call that function\n",
    "        print(\"Hello\")\n",
    "        print(msg)\n",
    "        print(\"Please come in\")\n",
    "        \n",
    "    return child() # when we call the parent function it will directly come to return because above code will run when it is called and in return child function is called so then all the lines executed and after that the cursor is at the where it has returned means in that case parent function "
   ]
  },
  {
   "cell_type": "code",
   "execution_count": 23,
   "id": "1df6b4e6",
   "metadata": {},
   "outputs": [
    {
     "name": "stdout",
     "output_type": "stream",
     "text": [
      "Hello\n",
      "Hassan Khan\n",
      "Please come in\n"
     ]
    }
   ],
   "source": [
    "parent(\"Hassan Khan\")"
   ]
  },
  {
   "cell_type": "code",
   "execution_count": 27,
   "id": "57e06c0e",
   "metadata": {},
   "outputs": [],
   "source": [
    "def grandparent(msg): # grandparent function is created \n",
    "    \n",
    "    def parent(msg): # inside grandparent parent function is created but it will not execute until it's not called\n",
    "        \n",
    "        def child(): # inside parent child function is created but it will not execute until it's not called\n",
    "            print(\"Hello Child What's your name?\")\n",
    "            print(msg)\n",
    "            \n",
    "        return child()\n",
    "\n",
    "    return parent(msg) \n",
    "\n",
    "# when grandparent is called first line that will be executed is this and it's return another function\n",
    "# then parent function is called and it's taking parameter so that's come in grandparent parameter is also passed to parent\n",
    "# then parent function is called inside this there is a child function but it will not run until it's called so it's directly move to the parent return where a child function is called\n",
    "# then child function body will be executed.\n"
   ]
  },
  {
   "cell_type": "code",
   "execution_count": 28,
   "id": "b051f0d3",
   "metadata": {},
   "outputs": [
    {
     "name": "stdout",
     "output_type": "stream",
     "text": [
      "Hello Child What's your name?\n",
      "Hassan Khan\n"
     ]
    }
   ],
   "source": [
    "grandparent(\"Hassan Khan\")"
   ]
  },
  {
   "cell_type": "markdown",
   "id": "d5ca7ac5",
   "metadata": {},
   "source": [
    "#### PASSING FUNCTION AS A ARGUMENT OF FUNCTION:"
   ]
  },
  {
   "cell_type": "code",
   "execution_count": 29,
   "id": "02d6acdd",
   "metadata": {},
   "outputs": [],
   "source": [
    "def parent(func):\n",
    "    \n",
    "    def child():\n",
    "        print(\"Welcome\")\n",
    "        func(\"This is karachi\")\n",
    "        print(\"Please come in\")\n",
    "        \n",
    "    return child()    "
   ]
  },
  {
   "cell_type": "code",
   "execution_count": 30,
   "id": "8991dd73",
   "metadata": {},
   "outputs": [
    {
     "name": "stdout",
     "output_type": "stream",
     "text": [
      "Welcome\n",
      "This is karachi\n",
      "Please come in\n"
     ]
    }
   ],
   "source": [
    "parent(print)"
   ]
  },
  {
   "cell_type": "code",
   "execution_count": 31,
   "id": "b60325ce",
   "metadata": {},
   "outputs": [],
   "source": [
    "def city_name():\n",
    "    print(\"This is karachi\")"
   ]
  },
  {
   "cell_type": "code",
   "execution_count": 32,
   "id": "e3ad7202",
   "metadata": {},
   "outputs": [],
   "source": [
    "def parent(func):\n",
    "    \n",
    "    def child():\n",
    "        print(\"Welcome\")\n",
    "        func()\n",
    "        print(\"Please come in\")\n",
    "        \n",
    "    return child()    "
   ]
  },
  {
   "cell_type": "code",
   "execution_count": 33,
   "id": "712d3dab",
   "metadata": {},
   "outputs": [
    {
     "name": "stdout",
     "output_type": "stream",
     "text": [
      "Welcome\n",
      "This is karachi\n",
      "Please come in\n"
     ]
    }
   ],
   "source": [
    "parent(city_name)"
   ]
  },
  {
   "cell_type": "markdown",
   "id": "a0ed0be2",
   "metadata": {},
   "source": [
    "# DECORATORS:\n",
    "\n",
    "DECORATORS IS MOSTLY USED WHEN WE CREATE API'S."
   ]
  },
  {
   "cell_type": "code",
   "execution_count": 1,
   "id": "db52e335",
   "metadata": {},
   "outputs": [],
   "source": [
    "def myDeco(func):\n",
    "    name = input(\"Enter your name: \")\n",
    "    invite = func(name) # IN THIS LINE FUNC THAT IS CALLED IS GREETING FUNCTION.\n",
    "    print(invite)"
   ]
  },
  {
   "cell_type": "code",
   "execution_count": 2,
   "id": "2ee26e6e",
   "metadata": {},
   "outputs": [
    {
     "name": "stdout",
     "output_type": "stream",
     "text": [
      "Enter your name: Hassan Khan\n",
      "Welcome Hassan Khan\n"
     ]
    }
   ],
   "source": [
    "# YOU CAN SEE HERE WHEN WE EXECUTE THIS CELL IT'S EXECUTE BUT WE HAVE NOT CALL THAT FUNCTION BUT IT'S EXECUTE BECAUSE OF THE DECORATOR WE HAVE USED.\n",
    "# THIS FUNCTION IS PASSED AS A ARGUMENT OF THE ABOVE DECORATOR FUNCTION AND CATCHED IN THE PARAMETER OF THE ABOVE FUNCTION.\n",
    "\n",
    "@myDeco\n",
    "def greetings(guest_name):\n",
    "    return f\"Welcome {guest_name}\""
   ]
  },
  {
   "cell_type": "markdown",
   "id": "4791a7e6",
   "metadata": {},
   "source": [
    "# ITERATORS:"
   ]
  },
  {
   "cell_type": "code",
   "execution_count": 3,
   "id": "8e910423",
   "metadata": {},
   "outputs": [
    {
     "name": "stdout",
     "output_type": "stream",
     "text": [
      "22\n",
      "33\n",
      "44\n",
      "55\n"
     ]
    }
   ],
   "source": [
    "l = [22, 33, 44, 55]\n",
    "# list is a collection of elements.\n",
    "# since we can iterate every element of the list that's why we call list is iterable.\n",
    "# we can iterate every element through iterator.\n",
    "\n",
    "for a in l:\n",
    "    print(a)\n",
    "\n",
    "# for loop is an iterator"
   ]
  },
  {
   "cell_type": "code",
   "execution_count": 12,
   "id": "1a319a4f",
   "metadata": {},
   "outputs": [
    {
     "name": "stdout",
     "output_type": "stream",
     "text": [
      "<list_iterator object at 0x000002142A053B20>\n"
     ]
    }
   ],
   "source": [
    "# now for lopp is built in iterator\n",
    "# we can create our own iterator by using \"iter()\"\n",
    "# but for loop takes out the values automatically \n",
    "# but our created iterator does not take out the values because it returns the object so to take out the values from the object\n",
    "\n",
    "iterable = iter(l)\n",
    "type(iterable)\n",
    "print(iterable) # as you can see that it returns the object."
   ]
  },
  {
   "cell_type": "code",
   "execution_count": 6,
   "id": "bb22c84a",
   "metadata": {},
   "outputs": [
    {
     "data": {
      "text/plain": [
       "22"
      ]
     },
     "execution_count": 6,
     "metadata": {},
     "output_type": "execute_result"
    }
   ],
   "source": [
    "# now for taking out the values from the object we use the keyword \"next\"\n",
    "\n",
    "next(iterable) \n",
    "\n",
    "# now you can see that it's showing the value but it's not automatically ietrates so we have to call him again and again and when the values are finished it raises the exception error\n"
   ]
  },
  {
   "cell_type": "code",
   "execution_count": 7,
   "id": "df4458fd",
   "metadata": {},
   "outputs": [
    {
     "data": {
      "text/plain": [
       "33"
      ]
     },
     "execution_count": 7,
     "metadata": {},
     "output_type": "execute_result"
    }
   ],
   "source": [
    "next(iterable) "
   ]
  },
  {
   "cell_type": "code",
   "execution_count": 8,
   "id": "0d788b42",
   "metadata": {},
   "outputs": [
    {
     "data": {
      "text/plain": [
       "44"
      ]
     },
     "execution_count": 8,
     "metadata": {},
     "output_type": "execute_result"
    }
   ],
   "source": [
    "next(iterable) "
   ]
  },
  {
   "cell_type": "code",
   "execution_count": 9,
   "id": "045e4e15",
   "metadata": {},
   "outputs": [
    {
     "data": {
      "text/plain": [
       "55"
      ]
     },
     "execution_count": 9,
     "metadata": {},
     "output_type": "execute_result"
    }
   ],
   "source": [
    "next(iterable) "
   ]
  },
  {
   "cell_type": "code",
   "execution_count": 10,
   "id": "60b73ba9",
   "metadata": {},
   "outputs": [
    {
     "ename": "StopIteration",
     "evalue": "",
     "output_type": "error",
     "traceback": [
      "\u001b[1;31m---------------------------------------------------------------------------\u001b[0m",
      "\u001b[1;31mStopIteration\u001b[0m                             Traceback (most recent call last)",
      "\u001b[1;32m~\\AppData\\Local\\Temp\\ipykernel_9608\\2746949193.py\u001b[0m in \u001b[0;36m<module>\u001b[1;34m\u001b[0m\n\u001b[1;32m----> 1\u001b[1;33m \u001b[0mnext\u001b[0m\u001b[1;33m(\u001b[0m\u001b[0miterable\u001b[0m\u001b[1;33m)\u001b[0m\u001b[1;33m\u001b[0m\u001b[1;33m\u001b[0m\u001b[0m\n\u001b[0m",
      "\u001b[1;31mStopIteration\u001b[0m: "
     ]
    }
   ],
   "source": [
    "next(iterable) "
   ]
  },
  {
   "cell_type": "code",
   "execution_count": 17,
   "id": "88e97ad2",
   "metadata": {},
   "outputs": [
    {
     "name": "stdout",
     "output_type": "stream",
     "text": [
      "iterable is empty now\n"
     ]
    }
   ],
   "source": [
    "# now for solving this error issue when values are finished we can use try and except method:\n",
    "\n",
    "try:\n",
    "    print(next(iterable))\n",
    "    \n",
    "except:\n",
    "    print(\"iterable is empty now\")"
   ]
  },
  {
   "cell_type": "markdown",
   "id": "ac2f2840",
   "metadata": {},
   "source": [
    "# GENERATOR:\n",
    "\n",
    "WE WILL CREATE A ITERATOR USING GENERATOR TECHNIQUE\n",
    "\n",
    "THIS CONCEPT IS MOSTLY USED IN ML, DATA SCIENCE BECAUSE IT USES FOR HANDLING BIG DATA"
   ]
  },
  {
   "cell_type": "code",
   "execution_count": 20,
   "id": "4ade1d24",
   "metadata": {},
   "outputs": [
    {
     "name": "stdout",
     "output_type": "stream",
     "text": [
      "[100, 400, 900, 1600, 2500]\n"
     ]
    }
   ],
   "source": [
    "def square_num(nums):\n",
    "    \n",
    "    result = []\n",
    "    \n",
    "    for i in nums:\n",
    "        result.append(i*i)\n",
    "    return result \n",
    "\n",
    "my_nums = square_num([10,20,30,40,50])\n",
    "\n",
    "print(my_nums)"
   ]
  },
  {
   "cell_type": "code",
   "execution_count": 25,
   "id": "2e735a0b",
   "metadata": {},
   "outputs": [
    {
     "name": "stdout",
     "output_type": "stream",
     "text": [
      "<generator object square_num at 0x000002142A139820>\n"
     ]
    }
   ],
   "source": [
    "def square_num(nums):\n",
    "    \n",
    "    for i in nums:\n",
    "        yield (i**2) \n",
    "        \n",
    "my_nums = square_num([10,20,30,40,50])\n",
    "\n",
    "print(my_nums)"
   ]
  },
  {
   "cell_type": "code",
   "execution_count": 28,
   "id": "6c6e4b5b",
   "metadata": {},
   "outputs": [
    {
     "data": {
      "text/plain": [
       "900"
      ]
     },
     "execution_count": 28,
     "metadata": {},
     "output_type": "execute_result"
    }
   ],
   "source": [
    "next(my_nums)"
   ]
  }
 ],
 "metadata": {
  "kernelspec": {
   "display_name": "Python 3 (ipykernel)",
   "language": "python",
   "name": "python3"
  },
  "language_info": {
   "codemirror_mode": {
    "name": "ipython",
    "version": 3
   },
   "file_extension": ".py",
   "mimetype": "text/x-python",
   "name": "python",
   "nbconvert_exporter": "python",
   "pygments_lexer": "ipython3",
   "version": "3.9.13"
  }
 },
 "nbformat": 4,
 "nbformat_minor": 5
}
