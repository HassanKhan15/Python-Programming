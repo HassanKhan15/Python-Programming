{
 "cells": [
  {
   "cell_type": "markdown",
   "id": "67bd48b4",
   "metadata": {},
   "source": [
    "# OVERLOADING CONCEPT :  "
   ]
  },
  {
   "cell_type": "raw",
   "id": "89a57a4b",
   "metadata": {},
   "source": [
    "PYTHON DOES NOT SUPPORT METHOD OVERLOADING\n",
    "OVERLOADING => (METHODS OF SAME NAME WITH DIFFERENT SIGNATURES ('PARAMETERS') IN A CLASS IS KNOWN AS METHOD OVERLOADING)\n",
    "\n",
    "FOR EXAMPLE :\n",
    "\n",
    "def abc():\n",
    "    print(abc)\n",
    "    \n",
    "def abc(val1):\n",
    "    print(abc)"
   ]
  },
  {
   "cell_type": "markdown",
   "id": "32fa1a96",
   "metadata": {},
   "source": [
    "# POLYMORPHISM:"
   ]
  },
  {
   "cell_type": "raw",
   "id": "8793ecbe",
   "metadata": {},
   "source": [
    "POLYMORPHISM IS BASICALLY MANY FORMS OF ANY METHOD OR BEHAVIOUR\n",
    "POLYMORPHISM IS OVERRIDING => REDIFING METHODS THAT IS INHERIT FROM PARENT TO ACT ACCORDINGLY WITN IN A DIFFERENT CLASS IS KNOWN AS OVERRIDING\n",
    "\n",
    "IN THE BELOW EXAMPLE ELECTRIC CAR CLASS INHERIT CAR CLASS SO DUE TO THIS FUEL TANK METHOD THAT IS IN PARENT CLASS COMES AUTOMATICALLY TO ELECTRIC CAR BUT ELECTRIC CAR DOES NOT HAVE A FUEL TANK SO IN THAT CASE FOR SOLVING THIS REDEFINE THAT METHOD IN  ELECTRIC CAR METHOD IS KNOWN AS POLYMORPHISM ALSO KNOWN AS OVERRIDING"
   ]
  },
  {
   "cell_type": "code",
   "execution_count": 8,
   "id": "7ccee6eb",
   "metadata": {},
   "outputs": [],
   "source": [
    "class Car():\n",
    "    def __init__(self, brand, model, transmission, color, engine):\n",
    "        self.car_brand = brand\n",
    "        self.car_model = model\n",
    "        self.car_transmission = transmission\n",
    "        self.car_color = color\n",
    "        self.car_engine = engine\n",
    "        \n",
    "    def start(self):\n",
    "        print(f\"{self.car_brand} {self.car_model} {self.car_transmission} {self.car_color} {self.car_engine} is running\")\n",
    "        \n",
    "    def stop(self):\n",
    "        print(f\"{self.car_brand} {self.car_model} {self.car_transmission} {self.car_color} {self.car_engine} is stopped\")\n",
    "\n",
    "    def fuel_tank(self):\n",
    "        print(f\"{self.car_brand} {self.car_model} {self.car_transmission} {self.car_color} {self.car_engine} is filling fuel tank\")"
   ]
  },
  {
   "cell_type": "code",
   "execution_count": 14,
   "id": "46bc85d7",
   "metadata": {},
   "outputs": [],
   "source": [
    "class Electric_Car(Car):\n",
    "    def __init__(self, brand, model, transmission, color, engine, battery):\n",
    "        super().__init__(brand, model, transmission, color, engine)\n",
    "        self.ec_battery = battery\n",
    "        \n",
    "    def battery(self):\n",
    "        print(\"ELECTRIC CAR IS RUNNING THROUGH BATTERY\")\n",
    "        \n",
    "    def fuel_tank(self):\n",
    "        print(f\"{self.car_brand} {self.car_model} {self.car_transmission} {self.car_color} {self.car_engine} {self.ec_battery} does not conatin fuel tank\")"
   ]
  },
  {
   "cell_type": "code",
   "execution_count": 16,
   "id": "695dc9d3",
   "metadata": {},
   "outputs": [],
   "source": [
    "EC1 = Electric_Car('TESLA','2022','Auto','Black','2000-CC','EXIDE')"
   ]
  },
  {
   "cell_type": "code",
   "execution_count": 17,
   "id": "1559e9d0",
   "metadata": {},
   "outputs": [
    {
     "name": "stdout",
     "output_type": "stream",
     "text": [
      "ELECTRIC CAR IS RUNNING THROUGH BATTERY\n"
     ]
    }
   ],
   "source": [
    "EC1.battery()"
   ]
  },
  {
   "cell_type": "code",
   "execution_count": 18,
   "id": "23a7e702",
   "metadata": {},
   "outputs": [
    {
     "name": "stdout",
     "output_type": "stream",
     "text": [
      "TESLA 2022 Auto Black 2000-CC EXIDE does not conatin fuel tank\n"
     ]
    }
   ],
   "source": [
    "EC1.fuel_tank()"
   ]
  },
  {
   "cell_type": "markdown",
   "id": "73495bec",
   "metadata": {},
   "source": [
    "### DIFFERENT TYPES OF METHODS THROUGH WHICH POLYMORPHISM CAN BE IMPLEMENTED:\n",
    "    1) DUCK TYPING\n",
    "    2) OPERATOR OVERLOADING\n",
    "    3) METHOD OVERLOADING\n",
    "    4) METHOD OVERRIDING"
   ]
  },
  {
   "cell_type": "markdown",
   "id": "11d80423",
   "metadata": {},
   "source": [
    "## DUCK TYPING:\n",
    "    \n",
    "    IF THERE IS A BIRD WHICH IS:\n",
    "        1) WALING LIKE A DUCK     \n",
    "        2) QUACKING LIKE A DUCK  ======> THEN IT IS A DUCK.\n",
    "        3) SWIMMING LIKE A DUCK\n",
    "        \n",
    "MEANS THAT IF IT'S METHOD IS JUST LIKE A DUCK SO YOU CAN SAY IT IS A DUCK ALTHOUGH IT IS NOT A DUCK BUT IF IT'S METHOD IS LIKE DUCK SO YOU CAN CONSIDER AS A DUCK    \n",
    "        "
   ]
  },
  {
   "cell_type": "code",
   "execution_count": 1,
   "id": "f95c00e6",
   "metadata": {},
   "outputs": [
    {
     "name": "stdout",
     "output_type": "stream",
     "text": [
      "COMPILING\n",
      "RUNNING\n",
      "GRAMMAR CHECKING\n",
      "SPELL CHECKING\n",
      "COMPILING\n",
      "RUNNING\n"
     ]
    }
   ],
   "source": [
    "class Pycharm():\n",
    "    \n",
    "    def execute(self):\n",
    "        print(\"COMPILING\")\n",
    "        print(\"RUNNING\")\n",
    "        \n",
    "IDE1 = Pycharm()\n",
    "\n",
    "class Vscode():\n",
    "    \n",
    "    def execute(self):\n",
    "        print(\"GRAMMAR CHECKING\")\n",
    "        print(\"SPELL CHECKING\")\n",
    "        print(\"COMPILING\")\n",
    "        print(\"RUNNING\")\n",
    "        \n",
    "IDE2 = Vscode()      \n",
    "\n",
    "class Laptop():\n",
    "    \n",
    "    def code(self, ide):\n",
    "        ide.execute()\n",
    "        \n",
    "lap1 = Laptop()\n",
    "lap1.code(IDE1)\n",
    "lap1.code(IDE2)"
   ]
  },
  {
   "cell_type": "code",
   "execution_count": null,
   "id": "fcfeaee7",
   "metadata": {},
   "outputs": [],
   "source": []
  }
 ],
 "metadata": {
  "kernelspec": {
   "display_name": "Python 3 (ipykernel)",
   "language": "python",
   "name": "python3"
  },
  "language_info": {
   "codemirror_mode": {
    "name": "ipython",
    "version": 3
   },
   "file_extension": ".py",
   "mimetype": "text/x-python",
   "name": "python",
   "nbconvert_exporter": "python",
   "pygments_lexer": "ipython3",
   "version": "3.9.13"
  }
 },
 "nbformat": 4,
 "nbformat_minor": 5
}
